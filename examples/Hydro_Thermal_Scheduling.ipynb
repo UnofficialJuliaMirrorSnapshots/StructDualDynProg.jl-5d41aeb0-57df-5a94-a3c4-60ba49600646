{
 "cells": [
  {
   "cell_type": "markdown",
   "metadata": {},
   "source": [
    "In this tutorial, we show how to run the [FAST tutorial example](https://web.stanford.edu/~lcambier/fast/tuto.php) using this package.\n",
    "The big difference between this example and the quickstart example is that in this example we will model serial independence.\n",
    "There will be 5 stages and 2 scenarios per stages except for the first stage which has only one scenario.\n",
    "Each pair of scenario will have the same parent.\n",
    "\n",
    "We start by setting the constants:"
   ]
  },
  {
   "cell_type": "code",
   "execution_count": 1,
   "metadata": {},
   "outputs": [],
   "source": [
    "const num_stages = 5\n",
    "const numScen = 2\n",
    "const C = 5\n",
    "const V = 8\n",
    "const d = 6\n",
    "const r = [2, 10];"
   ]
  },
  {
   "cell_type": "markdown",
   "metadata": {},
   "source": [
    "We now create a matrix to store all the variables of all the models.\n",
    "This allows us to use the variables of other models from a given model.\n",
    "We also create an array of the first model of each stage to give play the role of parent for the models of the next stage."
   ]
  },
  {
   "cell_type": "code",
   "execution_count": 2,
   "metadata": {},
   "outputs": [],
   "source": [
    "using StructJuMP\n",
    "x = Matrix{JuMP.Variable}(undef, num_stages, numScen)\n",
    "y = Matrix{JuMP.Variable}(undef, num_stages, numScen)\n",
    "p = Matrix{JuMP.Variable}(undef, num_stages, numScen)\n",
    "models = Vector{JuMP.Model}(undef, num_stages);"
   ]
  },
  {
   "cell_type": "markdown",
   "metadata": {},
   "source": [
    "Now, we create all the models.\n",
    "Note that each model declares that its parent is the first model (i.e. the model `ξ == 1`) of the previous stage.\n",
    "Hence if it is not the first model, it also declares that it has the same children than the first model of its stage.\n",
    "This is how serial independence is modeled in [StructJuMP](https://github.com/StructJuMP/StructJuMP.jl)."
   ]
  },
  {
   "cell_type": "code",
   "execution_count": 3,
   "metadata": {},
   "outputs": [],
   "source": [
    "using Statistics\n",
    "for s in 1:num_stages\n",
    "    for ξ in 1:(s == 1 ? 1 : numScen) # for the first stage there is only 1 scenario\n",
    "        if s == 1\n",
    "            model = StructuredModel(num_scenarios=numScen)\n",
    "        else\n",
    "            model = StructuredModel(parent=models[s-1], prob=1/2, same_children_as=(ξ == 1 ? nothing : models[s]), id=ξ, num_scenarios=(s == num_stages ? 0 : numScen))\n",
    "        end\n",
    "        x[s, ξ] = @variable(model, lowerbound=0, upperbound=V)\n",
    "        y[s, ξ] = @variable(model, lowerbound=0)\n",
    "        p[s, ξ] = @variable(model, lowerbound=0)\n",
    "        if s > 1\n",
    "            @constraint(model, x[s, ξ] <= x[s-1, 1] + r[ξ] - y[s, ξ])\n",
    "        else\n",
    "            @constraint(model, x[s, ξ] <= mean(r) - y[s, ξ])\n",
    "        end\n",
    "        @constraint(model, p[s, ξ] + y[s, ξ] >= d)\n",
    "        @objective(model, Min, C * p[s, ξ])\n",
    "        # models[s] contains the first model only\n",
    "        if ξ == 1\n",
    "            models[s] = model\n",
    "        end\n",
    "    end\n",
    "end"
   ]
  },
  {
   "cell_type": "markdown",
   "metadata": {},
   "source": [
    "We first need to pick an LP solver, see [here](http://www.juliaopt.org/) for a list of the available choices."
   ]
  },
  {
   "cell_type": "code",
   "execution_count": 4,
   "metadata": {},
   "outputs": [],
   "source": [
    "using GLPKMathProgInterface\n",
    "solver = GLPKMathProgInterface.GLPKSolverLP();"
   ]
  },
  {
   "cell_type": "markdown",
   "metadata": {},
   "source": [
    "We now create the lattice, note that the master problem is `models[1]`."
   ]
  },
  {
   "cell_type": "code",
   "execution_count": 5,
   "metadata": {},
   "outputs": [],
   "source": [
    "using CutPruners\n",
    "const pruner = AvgCutPruningAlgo(-1)\n",
    "using StructDualDynProg\n",
    "const SOI = StructDualDynProg.SOI\n",
    "sp = SOI.stochasticprogram(models[1], num_stages, solver, pruner);"
   ]
  },
  {
   "cell_type": "markdown",
   "metadata": {},
   "source": [
    "The SDDP algorithm can now be run on the lattice:"
   ]
  },
  {
   "cell_type": "code",
   "execution_count": 6,
   "metadata": {},
   "outputs": [
    {
     "name": "stdout",
     "output_type": "stream",
     "text": [
      "Exact Lower Bound: 23.75\n",
      "Monte-Carlo Upper Bound: 24.375\n",
      "\n",
      " \u001b[1m──────────────────────────────────────────────────────────────────────\u001b[22m\n",
      " \u001b[1m                      \u001b[22m        Time                   Allocations      \n",
      "                       ──────────────────────   ───────────────────────\n",
      "   Tot / % measured:        6.08s / 90.7%            946MiB / 91.9%    \n",
      "\n",
      " Section       ncalls     time   %tot     avg     alloc   %tot      avg\n",
      " ──────────────────────────────────────────────────────────────────────\n",
      " "
     ]
    },
    {
     "data": {
      "text/plain": []
     },
     "execution_count": 6,
     "metadata": {},
     "output_type": "execute_result"
    },
    {
     "name": "stdout",
     "output_type": "stream",
     "text": [
      "iteration 1        1    5.51s   100%   5.51s    868MiB  100%    868MiB\n",
      "   solve           25    1.84s  33.4%  73.6ms    231MiB  26.6%  9.25MiB\n",
      "   ocuts           10    184ms  3.33%  18.4ms   29.1MiB  3.35%  2.91MiB\n",
      "   merged           4    144ms  2.62%  36.1ms   21.7MiB  2.50%  5.43MiB\n",
      "   setx            24   32.8ms  0.60%  1.37ms   4.03MiB  0.46%   172KiB\n",
      " iteration 2        1   1.52ms  0.03%  1.52ms    810KiB  0.09%   810KiB\n",
      "   solve           41    850μs  0.02%  20.7μs    350KiB  0.04%  8.53KiB\n",
      "   setx            40    438μs  0.01%  10.9μs    244KiB  0.03%  6.11KiB\n",
      "   merged           4   24.0μs  0.00%  6.00μs   9.94KiB  0.00%  2.48KiB\n",
      "   ocuts            1   8.51μs  0.00%  8.51μs   1.95KiB  0.00%  1.95KiB\n",
      " \u001b[1m──────────────────────────────────────────────────────────────────────\u001b[22m\n"
     ]
    }
   ],
   "source": [
    "algo = StructDualDynProg.SDDP.Algorithm(K = 16)\n",
    "sol = SOI.optimize!(sp, algo, SOI.Pereira(2., 0.5) | SOI.IterLimit(10))"
   ]
  },
  {
   "cell_type": "code",
   "execution_count": null,
   "metadata": {
    "collapsed": true
   },
   "outputs": [],
   "source": []
  }
 ],
 "metadata": {
  "kernelspec": {
   "display_name": "Julia 1.0.1",
   "language": "julia",
   "name": "julia-1.0"
  },
  "language_info": {
   "file_extension": ".jl",
   "mimetype": "application/julia",
   "name": "julia",
   "version": "1.0.1"
  }
 },
 "nbformat": 4,
 "nbformat_minor": 2
}
