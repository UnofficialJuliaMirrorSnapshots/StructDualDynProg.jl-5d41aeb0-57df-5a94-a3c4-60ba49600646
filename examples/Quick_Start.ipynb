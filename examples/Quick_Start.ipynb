{
 "cells": [
  {
   "cell_type": "markdown",
   "metadata": {},
   "source": [
    "This example shows how to solve the [FAST quick start example](https://web.stanford.edu/~lcambier/fast/demo.php) using this package.\n",
    "We start by setting the different constants:"
   ]
  },
  {
   "cell_type": "code",
   "execution_count": 1,
   "metadata": {},
   "outputs": [],
   "source": [
    "const num_stages = 2\n",
    "const numScen = 2\n",
    "const C = 1\n",
    "const P = 2\n",
    "const d = [2, 3];"
   ]
  },
  {
   "cell_type": "markdown",
   "metadata": {},
   "source": [
    "We now model the master problem using [StructJuMP](https://github.com/StructJuMP/StructJuMP.jl)."
   ]
  },
  {
   "cell_type": "code",
   "execution_count": 2,
   "metadata": {},
   "outputs": [],
   "source": [
    "using StructJuMP\n",
    "m1 = StructuredModel(num_scenarios=numScen)\n",
    "@variable(m1, x >= 0)\n",
    "@objective(m1, Min, C * x);"
   ]
  },
  {
   "cell_type": "markdown",
   "metadata": {},
   "source": [
    "For each of the two scenarios we need to create a [StructJuMP](https://github.com/StructJuMP/StructJuMP.jl) model specifying that `m1` is the parent and that the scenario has probability `1/2`."
   ]
  },
  {
   "cell_type": "code",
   "execution_count": 3,
   "metadata": {},
   "outputs": [],
   "source": [
    "for ξ in 1:numScen\n",
    "    m2 = StructuredModel(parent=m1, prob=1/2, id=ξ)\n",
    "    @variable(m2, s >= 0)\n",
    "    @constraints m2 begin\n",
    "        s <= d[ξ]\n",
    "        s <= x\n",
    "    end\n",
    "    @objective(m2, Max, P * s)\n",
    "end"
   ]
  },
  {
   "cell_type": "markdown",
   "metadata": {},
   "source": [
    "We first need to pick an LP solver, see [here](http://www.juliaopt.org/) for a list of the available choices."
   ]
  },
  {
   "cell_type": "code",
   "execution_count": 4,
   "metadata": {},
   "outputs": [],
   "source": [
    "using GLPKMathProgInterface\n",
    "solver = GLPKMathProgInterface.GLPKSolverLP();"
   ]
  },
  {
   "cell_type": "markdown",
   "metadata": {},
   "source": [
    "This structured model need to be transformed into an appropriate structure to run SDDP on it.\n",
    "This is achieved by `stochasticprogram`:"
   ]
  },
  {
   "cell_type": "code",
   "execution_count": 5,
   "metadata": {},
   "outputs": [],
   "source": [
    "using CutPruners\n",
    "const pruner = AvgCutPruningAlgo(-1)\n",
    "using StructDualDynProg\n",
    "using StochOptInterface\n",
    "const SOI = StructDualDynProg.SOI\n",
    "sp = SOI.stochasticprogram(m1, num_stages, solver, pruner);"
   ]
  },
  {
   "cell_type": "markdown",
   "metadata": {},
   "source": [
    "We can now run the sddp algorithm on it using `SDDP`. We are using 2 forward paths per iteration and we stop either after 10 iterations or once the pereira criterion is satisfied with $\\alpha = 0.1$."
   ]
  },
  {
   "cell_type": "code",
   "execution_count": 6,
   "metadata": {},
   "outputs": [],
   "source": [
    "algo = StructDualDynProg.SDDP.Algorithm(K = 2)\n",
    "sol = SOI.optimize!(sp, algo, SOI.Pereira(0.1) | SOI.IterLimit(10));"
   ]
  },
  {
   "cell_type": "markdown",
   "metadata": {},
   "source": [
    "We can verify that the algorithm have found the right value by inspecting the solution:"
   ]
  },
  {
   "cell_type": "code",
   "execution_count": 7,
   "metadata": {},
   "outputs": [
    {
     "data": {
      "text/plain": [
       "Exact Lower Bound: -2.0\n",
       "Monte-Carlo Upper Bound: -2.0\n"
      ]
     },
     "execution_count": 7,
     "metadata": {},
     "output_type": "execute_result"
    }
   ],
   "source": [
    "SOI.last_result(sol)"
   ]
  },
  {
   "cell_type": "code",
   "execution_count": null,
   "metadata": {},
   "outputs": [],
   "source": []
  }
 ],
 "metadata": {
  "kernelspec": {
   "display_name": "Julia 1.0.1",
   "language": "julia",
   "name": "julia-1.0"
  },
  "language_info": {
   "file_extension": ".jl",
   "mimetype": "application/julia",
   "name": "julia",
   "version": "1.0.1"
  }
 },
 "nbformat": 4,
 "nbformat_minor": 2
}
